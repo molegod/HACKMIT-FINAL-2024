{
 "cells": [
  {
   "cell_type": "markdown",
   "id": "661d6cb4-2080-41e3-93c1-dee1a984fd74",
   "metadata": {},
   "source": [
    "# Helpful links:\n",
    "Database connection:\n",
    "https://docs.intersystems.com/irislatest/csp/docbook/DocBook.UI.Page.cls?KEY=BPYNAT_pyapi\n",
    "\n",
    "SQL:\n",
    "https://docs.intersystems.com/irislatest/csp/docbook/DocBook.UI.Page.cls?KEY=RSQL_createtable\n",
    "\n",
    "Data Types:\n",
    "https://docs.intersystems.com/irislatest/csp/docbook/DocBook.UI.Page.cls?KEY=RSQL_datatype\n",
    "\n",
    "\n",
    "<b> Make sure to start the IRIS database before running this file. A quick way to do that: </b> \\\n",
    "docker run -d --name iris-comm -p 1972:1972 -p 52773:52773 -e IRIS_PASSWORD=demo -e IRIS_USERNAME=demo intersystemsdc/iris-community:latest"
   ]
  },
  {
   "cell_type": "markdown",
   "id": "6b00011c-8e40-4bae-9007-d7147891b571",
   "metadata": {},
   "source": [
    "# Loading the data to a dataframe\n",
    "The data used here is the D_ICD_DIAGNOSES table from the Medical Information Mart for Intensive Care (MIMIC)-IV Demo database \\\n",
    "<i>\" Medical Information Mart for Intensive Care (MIMIC)-IV database is comprised of deidentified electronic health records for patients admitted to the Beth Israel Deaconess Medical Center \" </i> \\\n",
    "Johnson, A., Bulgarelli, L., Pollard, T., Horng, S., Celi, L. A., & Mark, R. (2023). MIMIC-IV Clinical Database Demo (version 2.2). PhysioNet. https://doi.org/10.13026/dp1f-ex47."
   ]
  },
  {
   "cell_type": "code",
   "execution_count": 82,
   "id": "c6b6088d-f73c-42cc-ba1a-aef808797fa9",
   "metadata": {},
   "outputs": [],
   "source": [
    "import pandas as pd"
   ]
  },
  {
   "cell_type": "code",
   "execution_count": 83,
   "id": "f5df150c-4747-4f99-8ec5-80856475320e",
   "metadata": {},
   "outputs": [],
   "source": [
    "diagnoses = pd.read_csv(\"D_ICD_DIAGNOSES.csv\")"
   ]
  },
  {
   "cell_type": "code",
   "execution_count": 84,
   "id": "341ac527-0d40-46ab-9c72-938369e2b1e5",
   "metadata": {},
   "outputs": [
    {
     "data": {
      "text/html": [
       "<div>\n",
       "<style scoped>\n",
       "    .dataframe tbody tr th:only-of-type {\n",
       "        vertical-align: middle;\n",
       "    }\n",
       "\n",
       "    .dataframe tbody tr th {\n",
       "        vertical-align: top;\n",
       "    }\n",
       "\n",
       "    .dataframe thead th {\n",
       "        text-align: right;\n",
       "    }\n",
       "</style>\n",
       "<table border=\"1\" class=\"dataframe\">\n",
       "  <thead>\n",
       "    <tr style=\"text-align: right;\">\n",
       "      <th></th>\n",
       "      <th>row_id</th>\n",
       "      <th>icd9_code</th>\n",
       "      <th>short_title</th>\n",
       "      <th>long_title</th>\n",
       "    </tr>\n",
       "  </thead>\n",
       "  <tbody>\n",
       "    <tr>\n",
       "      <th>0</th>\n",
       "      <td>1</td>\n",
       "      <td>01716</td>\n",
       "      <td>Erythem nod tb-oth test</td>\n",
       "      <td>Erythema nodosum with hypersensitivity reactio...</td>\n",
       "    </tr>\n",
       "    <tr>\n",
       "      <th>1</th>\n",
       "      <td>2</td>\n",
       "      <td>01720</td>\n",
       "      <td>TB periph lymph-unspec</td>\n",
       "      <td>Tuberculosis of peripheral lymph nodes, unspec...</td>\n",
       "    </tr>\n",
       "    <tr>\n",
       "      <th>2</th>\n",
       "      <td>3</td>\n",
       "      <td>01721</td>\n",
       "      <td>TB periph lymph-no exam</td>\n",
       "      <td>Tuberculosis of peripheral lymph nodes, bacter...</td>\n",
       "    </tr>\n",
       "    <tr>\n",
       "      <th>3</th>\n",
       "      <td>4</td>\n",
       "      <td>01722</td>\n",
       "      <td>TB periph lymph-exam unk</td>\n",
       "      <td>Tuberculosis of peripheral lymph nodes, bacter...</td>\n",
       "    </tr>\n",
       "    <tr>\n",
       "      <th>4</th>\n",
       "      <td>5</td>\n",
       "      <td>01723</td>\n",
       "      <td>TB periph lymph-micro dx</td>\n",
       "      <td>Tuberculosis of peripheral lymph nodes, tuberc...</td>\n",
       "    </tr>\n",
       "  </tbody>\n",
       "</table>\n",
       "</div>"
      ],
      "text/plain": [
       "   row_id icd9_code               short_title  \\\n",
       "0       1     01716   Erythem nod tb-oth test   \n",
       "1       2     01720    TB periph lymph-unspec   \n",
       "2       3     01721   TB periph lymph-no exam   \n",
       "3       4     01722  TB periph lymph-exam unk   \n",
       "4       5     01723  TB periph lymph-micro dx   \n",
       "\n",
       "                                          long_title  \n",
       "0  Erythema nodosum with hypersensitivity reactio...  \n",
       "1  Tuberculosis of peripheral lymph nodes, unspec...  \n",
       "2  Tuberculosis of peripheral lymph nodes, bacter...  \n",
       "3  Tuberculosis of peripheral lymph nodes, bacter...  \n",
       "4  Tuberculosis of peripheral lymph nodes, tuberc...  "
      ]
     },
     "execution_count": 84,
     "metadata": {},
     "output_type": "execute_result"
    }
   ],
   "source": [
    "diagnoses.head()"
   ]
  },
  {
   "cell_type": "markdown",
   "id": "e08138cb-65d8-483b-b8c8-9287a6e889ef",
   "metadata": {},
   "source": [
    "# IRIS database operations"
   ]
  },
  {
   "cell_type": "code",
   "execution_count": null,
   "id": "9af97385-3712-4409-b96b-373024aed114",
   "metadata": {},
   "outputs": [],
   "source": [
    "!pip install intersystems_irispython-3.2.0-py3-none-any.whl\n",
    "import iris\n",
    "import time"
   ]
  },
  {
   "cell_type": "markdown",
   "id": "defbded9-65f8-4a5a-bcaf-897dcfe7a81e",
   "metadata": {},
   "source": [
    "## Database connection settings"
   ]
  },
  {
   "cell_type": "code",
   "execution_count": 87,
   "id": "c4119e53-b6db-4b2c-8ca1-a565c18523f0",
   "metadata": {},
   "outputs": [],
   "source": [
    "namespace=\"USER\"\n",
    "port = 1972\n",
    "hostname=\"localhost\"\n",
    "connection_string = f\"{hostname}:{port}/{namespace}\"\n",
    "username = \"demo\"\n",
    "password = \"demo\""
   ]
  },
  {
   "cell_type": "code",
   "execution_count": 108,
   "id": "646faaa3-f2f7-4e34-887f-c80831d1aed1",
   "metadata": {},
   "outputs": [],
   "source": [
    "# Note: Ideally conn and cursor should be used with context manager or with try-execpt-finally \n",
    "conn = iris.connect(connection_string, username, password)\n",
    "cursor = conn.cursor()"
   ]
  },
  {
   "cell_type": "markdown",
   "id": "bf2c4ec2-a1c2-4896-85fb-2591a28224a5",
   "metadata": {},
   "source": [
    "## Creating a new table"
   ]
  },
  {
   "cell_type": "code",
   "execution_count": 89,
   "id": "b4d69fc9-97bb-4be1-9252-4e0a4b042219",
   "metadata": {},
   "outputs": [],
   "source": [
    "tableName = \"Demo.Diagnoses\"\n",
    "tableDefinition = \"(row_id INTEGER, icd9_code VARCHAR(255), short_title VARCHAR(255), long_title VARCHAR(''))\""
   ]
  },
  {
   "cell_type": "code",
   "execution_count": 90,
   "id": "dfe67d6a-e75e-448e-8451-e44f69eb9f70",
   "metadata": {},
   "outputs": [
    {
     "data": {
      "text/plain": [
       "0"
      ]
     },
     "execution_count": 90,
     "metadata": {},
     "output_type": "execute_result"
    }
   ],
   "source": [
    "try:\n",
    "    cursor.execute(f\"DROP TABLE {tableName}\")  \n",
    "except:\n",
    "    pass\n",
    "cursor.execute(f\"CREATE TABLE {tableName} {tableDefinition}\")"
   ]
  },
  {
   "cell_type": "markdown",
   "id": "dbf0f35e-26f4-4d5a-b758-d7eedb784b5f",
   "metadata": {},
   "source": [
    "## Adding a batch of data"
   ]
  },
  {
   "cell_type": "code",
   "execution_count": 91,
   "id": "b20f2b10-5c6f-41a0-923a-12e8f5c611e7",
   "metadata": {},
   "outputs": [
    {
     "data": {
      "text/plain": [
       "3"
      ]
     },
     "execution_count": 91,
     "metadata": {},
     "output_type": "execute_result"
    }
   ],
   "source": [
    "## batch update\n",
    "sql = \"Insert into Demo.Diagnoses (row_id, icd9_code,short_title,long_title) values (?, ?, ?,?)\"\n",
    "params = [('0', '0', \"entered from batch update 1\",\"entered from batch update 1\"), ('0', '0','entered from batch update 2',\"entered from batch update 2\"), ('0', '0',\"entered from batch update 3\", \"entered from batch update 3\")]\n",
    "cursor.executemany(sql, params) "
   ]
  },
  {
   "cell_type": "markdown",
   "id": "df6fb933-72bf-4a4b-8fca-ece95335e086",
   "metadata": {},
   "source": [
    "## Adding data one row at a time by looping over the dataframe"
   ]
  },
  {
   "cell_type": "code",
   "execution_count": 92,
   "id": "7d7a0554-d274-4d42-9d38-16b0c09886ed",
   "metadata": {},
   "outputs": [
    {
     "name": "stdout",
     "output_type": "stream",
     "text": [
      "time taken to add 14567 entries: 3.831266164779663 seconds\n"
     ]
    }
   ],
   "source": [
    "##looping through dataframe and adding all the data to IRIS table\n",
    "sql = \"Insert into Demo.Diagnoses (row_id, icd9_code,short_title,long_title) values (?, ?, ?,?)\"\n",
    "start_time = time.time()\n",
    "for index,row in diagnoses.iterrows():\n",
    "    cursor.execute(sql, [row.row_id,row.icd9_code,row.short_title,row.long_title])\n",
    "end_time = time.time()\n",
    "print(f\"time taken to add {len(diagnoses)} entries: {end_time-start_time} seconds\")"
   ]
  },
  {
   "cell_type": "markdown",
   "id": "dfe97c4d-df13-44ba-936b-efc365530be4",
   "metadata": {},
   "source": [
    "## Reading from the table"
   ]
  },
  {
   "cell_type": "code",
   "execution_count": 93,
   "id": "6dfd3b24-6f1f-454b-9fd1-233a0e5647c0",
   "metadata": {},
   "outputs": [
    {
     "name": "stdout",
     "output_type": "stream",
     "text": [
      "[0, '0', 'entered from batch update 1', 'entered from batch update 1']\n",
      "[0, '0', 'entered from batch update 2', 'entered from batch update 2']\n",
      "[0, '0', 'entered from batch update 3', 'entered from batch update 3']\n",
      "[1, '01716', 'Erythem nod tb-oth test', 'Erythema nodosum with hypersensitivity reaction in tuberculosis, tubercle bacilli not found by bacteriological or histological examination, but tuberculosis confirmed by other methods [inoculation of animals]']\n",
      "[2, '01720', 'TB periph lymph-unspec', 'Tuberculosis of peripheral lymph nodes, unspecified']\n"
     ]
    }
   ],
   "source": [
    "##fetching data from database\n",
    "cursor.execute(\"select * from Demo.Diagnoses\")\n",
    "fetched_data = cursor.fetchmany(5)\n",
    "for row in fetched_data:\n",
    "    print(row)"
   ]
  },
  {
   "cell_type": "code",
   "execution_count": 94,
   "id": "e3ec0dd0-9f2e-4bf1-808a-dc024029bd6e",
   "metadata": {},
   "outputs": [],
   "source": [
    "##close the connection\n",
    "cursor.close()\n",
    "conn.commit()\n",
    "conn.close()"
   ]
  }
 ],
 "metadata": {
  "kernelspec": {
   "display_name": "Python 3 (ipykernel)",
   "language": "python",
   "name": "python3"
  },
  "language_info": {
   "codemirror_mode": {
    "name": "ipython",
    "version": 3
   },
   "file_extension": ".py",
   "mimetype": "text/x-python",
   "name": "python",
   "nbconvert_exporter": "python",
   "pygments_lexer": "ipython3",
   "version": "3.11.7"
  }
 },
 "nbformat": 4,
 "nbformat_minor": 5
}
