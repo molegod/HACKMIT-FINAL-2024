{
 "cells": [
  {
   "cell_type": "code",
   "execution_count": 16,
   "metadata": {},
   "outputs": [],
   "source": [
    "import os, pandas as pd\n",
    "from sentence_transformers import SentenceTransformer\n",
    "from sqlalchemy import create_engine, text\n",
    "from langchain.docstore.document import Document\n",
    "from langchain.document_loaders import TextLoader\n",
    "from langchain.text_splitter import CharacterTextSplitter\n",
    "from langchain.embeddings.openai import OpenAIEmbeddings\n",
    "from langchain.embeddings import HuggingFaceEmbeddings\n",
    "from langchain.embeddings.fastembed import FastEmbedEmbeddings\n",
    "\n",
    "from langchain_iris import IRISVector"
   ]
  },
  {
   "cell_type": "code",
   "execution_count": 17,
   "metadata": {},
   "outputs": [],
   "source": [
    "username = 'demo'\n",
    "password = 'demo'\n",
    "hostname = os.getenv('IRIS_HOSTNAME', 'localhost')\n",
    "port = '1972' \n",
    "namespace = 'USER'\n",
    "CONNECTION_STRING = f\"iris://{username}:{password}@{hostname}:{port}/{namespace}\""
   ]
  },
  {
   "cell_type": "code",
   "execution_count": 18,
   "metadata": {},
   "outputs": [],
   "source": [
    "engine = create_engine(CONNECTION_STRING)"
   ]
  },
  {
   "cell_type": "code",
   "execution_count": 19,
   "metadata": {},
   "outputs": [
    {
     "name": "stderr",
     "output_type": "stream",
     "text": [
      "c:\\Users\\peter\\anaconda3\\envs\\hackMIT24GS\\Lib\\site-packages\\transformers\\tokenization_utils_base.py:1601: FutureWarning: `clean_up_tokenization_spaces` was not set. It will be set to `True` by default. This behavior will be depracted in transformers v4.45, and will be then set to `False` by default. For more details check this issue: https://github.com/huggingface/transformers/issues/31884\n",
      "  warnings.warn(\n"
     ]
    }
   ],
   "source": [
    "# Load a pre-trained sentence transformer model. This model's output vectors are of size 384\n",
    "model = SentenceTransformer('all-MiniLM-L6-v2') "
   ]
  },
  {
   "cell_type": "code",
   "execution_count": 20,
   "metadata": {},
   "outputs": [],
   "source": [
    "# with engine.connect() as conn:\n",
    "#     with conn.begin():# Load \n",
    "#         sql = f\"\"\"\n",
    "#                 CREATE TABLE UserReviews3 (\n",
    "#     id INT PRIMARY KEY AUTO_INCREMENT,\n",
    "#     description TEXT,\n",
    "#     video TEXT\n",
    "# )\n",
    "#                 \"\"\"\n",
    "#         result = conn.execute(text(sql))\n"
   ]
  },
  {
   "cell_type": "code",
   "execution_count": 21,
   "metadata": {},
   "outputs": [],
   "source": [
    "with engine.connect() as conn:\n",
    "    with conn.begin():# Load \n",
    "        sql = f\"\"\"\n",
    "                CREATE TABLE UserReviews0 (\n",
    "    id INT PRIMARY KEY AUTO_INCREMENT,\n",
    "    description TEXT,\n",
    "    video TEXT,\n",
    "    detail TEXT,\n",
    "    description_vector VECTOR(DOUBLE, 384)\n",
    ")\n",
    "                \"\"\"\n",
    "        result = conn.execute(text(sql))"
   ]
  },
  {
   "cell_type": "code",
   "execution_count": 8,
   "metadata": {},
   "outputs": [],
   "source": [
    "video_path = \"../data/test.mov\"\n",
    "description = \"a video taken at hackMIT for fun\"\n",
    "video_data =  video_path \n"
   ]
  },
  {
   "cell_type": "code",
   "execution_count": 10,
   "metadata": {},
   "outputs": [
    {
     "name": "stdout",
     "output_type": "stream",
     "text": [
      "[-0.03906959295272827, -0.008342157118022442, -0.026566706597805023, -0.08878551423549652, 0.046086590737104416, 0.020340759307146072, 0.0887850821018219, -0.013871023431420326, 0.027919361367821693, 0.030563069507479668, 0.04630373790860176, -0.013182888738811016, -0.016081584617495537, 0.019593533128499985, -0.011516713537275791, -0.016755985096096992, 0.007793714292347431, 0.04765964299440384, -0.0044016470201313496, -0.024359963834285736, 0.029004549607634544, -0.11794460564851761, 0.048272520303726196, -0.015762722119688988, -0.06334342807531357, 0.04784588888287544, 0.004962285980582237, 0.08252301067113876, -0.042643092572689056, -0.06237834319472313, -0.005695562344044447, 0.010634432546794415, -0.024357780814170837, 0.03637763112783432, -0.07625733315944672, -0.11438402533531189, 0.021384360268712044, -0.0058635869063436985, -0.00525261927396059, 0.007380882743746042, -0.04616823047399521, -0.01485674548894167, 0.09347249567508698, -0.008224139921367168, -0.03535199537873268, 0.07787308096885681, 0.033167801797389984, -0.055071987211704254, 0.057162750512361526, -0.00971839390695095, -0.01160926278680563, 0.009439932182431221, 0.0640992820262909, -0.033680252730846405, 0.05151909217238426, -0.09197612851858139, 0.033731646835803986, -0.05005156248807907, 0.08150901645421982, 0.04340704530477524, 0.1405860036611557, 0.07039735466241837, 0.0025863219052553177, 0.020905235782265663, -0.010329937562346458, -0.08436065167188644, 0.06100696697831154, -0.007369816768914461, 0.08030965924263, -0.04391983151435852, -0.09627727419137955, -0.01153922826051712, -0.04384836181998253, 0.0030121789313852787, -0.005284068174660206, -0.05088941380381584, -0.017657605931162834, -0.012180129066109657, -0.025582604110240936, -0.02283942699432373, 0.10405657440423965, -0.06564225256443024, -0.007900283671915531, -0.0026496960781514645, 0.0598071813583374, 0.03165486082434654, 0.03387477993965149, -0.0015906881308183074, 0.03516339138150215, 0.026139406487345695, -0.17431089282035828, 0.07595418393611908, -0.02723793312907219, -0.03829273208975792, -0.05259256437420845, -0.08526001125574112, -0.04702996462583542, -0.02537429891526699, -0.02565866895020008, 0.08370988816022873, 0.025959471240639687, 0.01956430822610855, 0.041081853210926056, -0.06449343264102936, 0.08266105502843857, 0.03304293379187584, 0.027426961809396744, 0.08568377792835236, 0.05672504007816315, -0.018552053719758987, -0.052532121539115906, 0.04195229336619377, -0.023153750225901604, 0.014841467142105103, 0.039106763899326324, 0.03517777472734451, -0.09481268376111984, 0.014437985606491566, -0.0951351672410965, 0.014433235861361027, 0.1347745656967163, -0.02232269011437893, -0.012679711915552616, 0.023260898888111115, 0.008834673091769218, -0.0641590803861618, 0.003211978590115905, -4.524335594966932e-33, 0.0483669675886631, -0.012777825817465782, -0.06640378385782242, 0.01459412183612585, 0.09753052145242691, -0.020810427144169807, 0.019323255866765976, -0.018542736768722534, -0.07379507273435593, 0.10280671715736389, 0.0005244069034233689, -0.09395354241132736, -0.04345271363854408, 0.06040884926915169, 0.0445215068757534, -0.06845922023057938, -0.05679541081190109, -0.0631917342543602, -0.003268844448029995, 0.012625768780708313, -0.020042700693011284, -0.034629032015800476, 0.021530378609895706, -0.03319716826081276, 0.04663681983947754, 0.027508797124028206, -0.016243040561676025, -0.030690997838974, 0.1618533432483673, 0.025887733325362206, -0.0655376985669136, -0.022710291668772697, -0.027748286724090576, -0.06086527928709984, 0.09421727806329727, -0.06582755595445633, 0.049592044204473495, -0.10506486892700195, -0.06508655846118927, 0.01721595786511898, 0.048278454691171646, 0.009166574105620384, -0.06338135898113251, -0.012353065423667431, 0.003740786574780941, 0.008162129670381546, 0.014637009240686893, 0.01856405846774578, 0.009459445253014565, -0.0032749506644904613, 0.008606073446571827, 0.006990198511630297, 0.051334455609321594, -0.05630392208695412, -0.011848947033286095, 0.03145795315504074, 0.052972134202718735, -0.0074878595769405365, 0.019502129405736923, 0.0438821017742157, -0.017718201503157616, 0.01101761031895876, -0.09175100177526474, -0.003644184209406376, -0.09469269216060638, -0.01535177044570446, 0.08112260699272156, 0.002795502310618758, 0.013966593891382217, 0.0007237071404233575, -0.0386417917907238, -0.0019393481779843569, -0.03567565605044365, -0.032038141041994095, -0.07168196141719818, 0.03863445669412613, 0.011096236295998096, 0.015258586034178734, -0.024536507204174995, 0.019663680344820023, -0.0001207597233587876, -0.12406104058027267, 0.07166218012571335, 0.003601248376071453, -0.01710079051554203, -0.0020515201613307, 0.042517054826021194, -0.13165199756622314, -0.016962338238954544, 0.011565952561795712, -0.12711872160434723, 0.021430237218737602, 0.024331750348210335, -0.05903252214193344, 0.020880041643977165, 2.8190516340298014e-33, -0.05011774227023125, 0.054779741913080215, -0.04117359220981598, 0.08179489523172379, 0.08438616991043091, 0.008009679615497589, 0.0335526280105114, 0.06320799142122269, 0.04241098836064339, 0.00162747991271317, -0.014423161745071411, -0.02787747234106064, 0.02346045896410942, -0.0509253554046154, 0.03385017439723015, -0.08712612837553024, 0.0657372996211052, 0.0213352981954813, -0.07037792354822159, 0.03472596034407616, 0.02989928051829338, 0.034311216324567795, 0.09081367403268814, -0.06470248103141785, -0.031557273119688034, 0.06779393553733826, 0.07191020995378494, 0.06174538657069206, -0.003983309026807547, 0.05727631598711014, 0.05240925773978233, -0.0090600261464715, 0.020862365141510963, 0.023277651518583298, -0.02179509773850441, 0.04646200314164162, 0.07977017760276794, 0.030696017667651176, -0.028220469132065773, -0.07690359652042389, 0.024549251422286034, 0.10111197829246521, -0.035194430500268936, 0.053504928946495056, -0.031427863985300064, 0.0007338086143136024, -0.1374787986278534, 0.014025975950062275, 0.006418386474251747, 0.003632585983723402, 0.030599450692534447, 0.021486647427082062, 0.0010329951765015721, -0.03844525292515755, -0.035909269005060196, -0.05896229296922684, -0.019565435126423836, -0.03809550777077675, 0.1176532432436943, -0.004274177365005016, -0.011669651605188847, 0.024970147758722305, -0.09693875163793564, 0.009355024434626102, 0.0512458011507988, 0.001773303491063416, -0.02455797605216503, 0.06447577476501465, -0.06510051339864731, 0.04992079362273216, 0.05245114117860794, 0.005095053929835558, -0.02444353885948658, 0.05846550688147545, -0.024935796856880188, -0.01949383318424225, -0.02863992191851139, 0.06095433235168457, 0.043630167841911316, 0.07798099517822266, 0.004504250828176737, -0.06850741803646088, -0.06783556193113327, 0.019713018089532852, 0.05160527303814888, 0.05631318315863609, 0.057056449353694916, 0.031115464866161346, -0.017708875238895416, 0.017419518902897835, 0.06437736749649048, 0.028716687113046646, -0.02087395451962948, -0.010332016274333, 0.06816492974758148, -1.5306042655538477e-08, -0.016566777601838112, 0.056022174656391144, -0.06817074120044708, -0.030148552730679512, 0.012979867868125439, 0.07642059773206711, -0.026496388018131256, -0.1566956639289856, 0.06198948249220848, -0.0689881220459938, 0.03163953498005867, 0.020248040556907654, 0.006870957091450691, 0.04534492641687393, -0.03257102146744728, -0.024807197973132133, -0.075025275349617, 0.016012635082006454, -0.06564982235431671, 0.06480854749679565, 0.013349485583603382, 0.02319047413766384, 0.033143650740385056, -0.03661463409662247, -0.06271477788686752, 0.030301932245492935, -0.011555715464055538, 0.03614804521203041, 0.00026006801635958254, -0.013636146672070026, -0.030435839667916298, 0.019758298993110657, 0.021962059661746025, -0.045909132808446884, -0.03830048441886902, 0.06423697620630264, -0.050077810883522034, 0.0035609116312116385, -0.020517271012067795, 0.024622222408652306, -0.08164366334676743, -0.034861691296100616, 0.05083823576569557, 0.0066441381350159645, -0.12164735049009323, 0.042238883674144745, -0.03895708546042442, -0.08178763836622238, -0.027856148779392242, 0.009269144386053085, 0.005354853346943855, -0.05580136924982071, -0.01656518690288067, 0.07571212947368622, 0.05713861435651779, 0.0443863645195961, 0.018505461513996124, -0.031126832589507103, -0.01367238350212574, 0.0004301277222111821, -0.008537255227565765, 0.03521808981895447, -0.05414610728621483, -0.0026657404378056526]\n"
     ]
    }
   ],
   "source": [
    "single_embedding =model.encode(description, normalize_embeddings=True).tolist()\n",
    "print(single_embedding)"
   ]
  },
  {
   "cell_type": "code",
   "execution_count": 20,
   "metadata": {},
   "outputs": [
    {
     "name": "stdout",
     "output_type": "stream",
     "text": [
      "[-0.03906959295272827, -0.008342157118022442, -0.026566706597805023, -0.08878551423549652, 0.046086590737104416, 0.020340759307146072, 0.0887850821018219, -0.013871023431420326, 0.027919361367821693, 0.030563069507479668, 0.04630373790860176, -0.013182888738811016, -0.016081584617495537, 0.019593533128499985, -0.011516713537275791, -0.016755985096096992, 0.007793714292347431, 0.04765964299440384, -0.0044016470201313496, -0.024359963834285736, 0.029004549607634544, -0.11794460564851761, 0.048272520303726196, -0.015762722119688988, -0.06334342807531357, 0.04784588888287544, 0.004962285980582237, 0.08252301067113876, -0.042643092572689056, -0.06237834319472313, -0.005695562344044447, 0.010634432546794415, -0.024357780814170837, 0.03637763112783432, -0.07625733315944672, -0.11438402533531189, 0.021384360268712044, -0.0058635869063436985, -0.00525261927396059, 0.007380882743746042, -0.04616823047399521, -0.01485674548894167, 0.09347249567508698, -0.008224139921367168, -0.03535199537873268, 0.07787308096885681, 0.033167801797389984, -0.055071987211704254, 0.057162750512361526, -0.00971839390695095, -0.01160926278680563, 0.009439932182431221, 0.0640992820262909, -0.033680252730846405, 0.05151909217238426, -0.09197612851858139, 0.033731646835803986, -0.05005156248807907, 0.08150901645421982, 0.04340704530477524, 0.1405860036611557, 0.07039735466241837, 0.0025863219052553177, 0.020905235782265663, -0.010329937562346458, -0.08436065167188644, 0.06100696697831154, -0.007369816768914461, 0.08030965924263, -0.04391983151435852, -0.09627727419137955, -0.01153922826051712, -0.04384836181998253, 0.0030121789313852787, -0.005284068174660206, -0.05088941380381584, -0.017657605931162834, -0.012180129066109657, -0.025582604110240936, -0.02283942699432373, 0.10405657440423965, -0.06564225256443024, -0.007900283671915531, -0.0026496960781514645, 0.0598071813583374, 0.03165486082434654, 0.03387477993965149, -0.0015906881308183074, 0.03516339138150215, 0.026139406487345695, -0.17431089282035828, 0.07595418393611908, -0.02723793312907219, -0.03829273208975792, -0.05259256437420845, -0.08526001125574112, -0.04702996462583542, -0.02537429891526699, -0.02565866895020008, 0.08370988816022873, 0.025959471240639687, 0.01956430822610855, 0.041081853210926056, -0.06449343264102936, 0.08266105502843857, 0.03304293379187584, 0.027426961809396744, 0.08568377792835236, 0.05672504007816315, -0.018552053719758987, -0.052532121539115906, 0.04195229336619377, -0.023153750225901604, 0.014841467142105103, 0.039106763899326324, 0.03517777472734451, -0.09481268376111984, 0.014437985606491566, -0.0951351672410965, 0.014433235861361027, 0.1347745656967163, -0.02232269011437893, -0.012679711915552616, 0.023260898888111115, 0.008834673091769218, -0.0641590803861618, 0.003211978590115905, -4.524335594966932e-33, 0.0483669675886631, -0.012777825817465782, -0.06640378385782242, 0.01459412183612585, 0.09753052145242691, -0.020810427144169807, 0.019323255866765976, -0.018542736768722534, -0.07379507273435593, 0.10280671715736389, 0.0005244069034233689, -0.09395354241132736, -0.04345271363854408, 0.06040884926915169, 0.0445215068757534, -0.06845922023057938, -0.05679541081190109, -0.0631917342543602, -0.003268844448029995, 0.012625768780708313, -0.020042700693011284, -0.034629032015800476, 0.021530378609895706, -0.03319716826081276, 0.04663681983947754, 0.027508797124028206, -0.016243040561676025, -0.030690997838974, 0.1618533432483673, 0.025887733325362206, -0.0655376985669136, -0.022710291668772697, -0.027748286724090576, -0.06086527928709984, 0.09421727806329727, -0.06582755595445633, 0.049592044204473495, -0.10506486892700195, -0.06508655846118927, 0.01721595786511898, 0.048278454691171646, 0.009166574105620384, -0.06338135898113251, -0.012353065423667431, 0.003740786574780941, 0.008162129670381546, 0.014637009240686893, 0.01856405846774578, 0.009459445253014565, -0.0032749506644904613, 0.008606073446571827, 0.006990198511630297, 0.051334455609321594, -0.05630392208695412, -0.011848947033286095, 0.03145795315504074, 0.052972134202718735, -0.0074878595769405365, 0.019502129405736923, 0.0438821017742157, -0.017718201503157616, 0.01101761031895876, -0.09175100177526474, -0.003644184209406376, -0.09469269216060638, -0.01535177044570446, 0.08112260699272156, 0.002795502310618758, 0.013966593891382217, 0.0007237071404233575, -0.0386417917907238, -0.0019393481779843569, -0.03567565605044365, -0.032038141041994095, -0.07168196141719818, 0.03863445669412613, 0.011096236295998096, 0.015258586034178734, -0.024536507204174995, 0.019663680344820023, -0.0001207597233587876, -0.12406104058027267, 0.07166218012571335, 0.003601248376071453, -0.01710079051554203, -0.0020515201613307, 0.042517054826021194, -0.13165199756622314, -0.016962338238954544, 0.011565952561795712, -0.12711872160434723, 0.021430237218737602, 0.024331750348210335, -0.05903252214193344, 0.020880041643977165, 2.8190516340298014e-33, -0.05011774227023125, 0.054779741913080215, -0.04117359220981598, 0.08179489523172379, 0.08438616991043091, 0.008009679615497589, 0.0335526280105114, 0.06320799142122269, 0.04241098836064339, 0.00162747991271317, -0.014423161745071411, -0.02787747234106064, 0.02346045896410942, -0.0509253554046154, 0.03385017439723015, -0.08712612837553024, 0.0657372996211052, 0.0213352981954813, -0.07037792354822159, 0.03472596034407616, 0.02989928051829338, 0.034311216324567795, 0.09081367403268814, -0.06470248103141785, -0.031557273119688034, 0.06779393553733826, 0.07191020995378494, 0.06174538657069206, -0.003983309026807547, 0.05727631598711014, 0.05240925773978233, -0.0090600261464715, 0.020862365141510963, 0.023277651518583298, -0.02179509773850441, 0.04646200314164162, 0.07977017760276794, 0.030696017667651176, -0.028220469132065773, -0.07690359652042389, 0.024549251422286034, 0.10111197829246521, -0.035194430500268936, 0.053504928946495056, -0.031427863985300064, 0.0007338086143136024, -0.1374787986278534, 0.014025975950062275, 0.006418386474251747, 0.003632585983723402, 0.030599450692534447, 0.021486647427082062, 0.0010329951765015721, -0.03844525292515755, -0.035909269005060196, -0.05896229296922684, -0.019565435126423836, -0.03809550777077675, 0.1176532432436943, -0.004274177365005016, -0.011669651605188847, 0.024970147758722305, -0.09693875163793564, 0.009355024434626102, 0.0512458011507988, 0.001773303491063416, -0.02455797605216503, 0.06447577476501465, -0.06510051339864731, 0.04992079362273216, 0.05245114117860794, 0.005095053929835558, -0.02444353885948658, 0.05846550688147545, -0.024935796856880188, -0.01949383318424225, -0.02863992191851139, 0.06095433235168457, 0.043630167841911316, 0.07798099517822266, 0.004504250828176737, -0.06850741803646088, -0.06783556193113327, 0.019713018089532852, 0.05160527303814888, 0.05631318315863609, 0.057056449353694916, 0.031115464866161346, -0.017708875238895416, 0.017419518902897835, 0.06437736749649048, 0.028716687113046646, -0.02087395451962948, -0.010332016274333, 0.06816492974758148, -1.5306042655538477e-08, -0.016566777601838112, 0.056022174656391144, -0.06817074120044708, -0.030148552730679512, 0.012979867868125439, 0.07642059773206711, -0.026496388018131256, -0.1566956639289856, 0.06198948249220848, -0.0689881220459938, 0.03163953498005867, 0.020248040556907654, 0.006870957091450691, 0.04534492641687393, -0.03257102146744728, -0.024807197973132133, -0.075025275349617, 0.016012635082006454, -0.06564982235431671, 0.06480854749679565, 0.013349485583603382, 0.02319047413766384, 0.033143650740385056, -0.03661463409662247, -0.06271477788686752, 0.030301932245492935, -0.011555715464055538, 0.03614804521203041, 0.00026006801635958254, -0.013636146672070026, -0.030435839667916298, 0.019758298993110657, 0.021962059661746025, -0.045909132808446884, -0.03830048441886902, 0.06423697620630264, -0.050077810883522034, 0.0035609116312116385, -0.020517271012067795, 0.024622222408652306, -0.08164366334676743, -0.034861691296100616, 0.05083823576569557, 0.0066441381350159645, -0.12164735049009323, 0.042238883674144745, -0.03895708546042442, -0.08178763836622238, -0.027856148779392242, 0.009269144386053085, 0.005354853346943855, -0.05580136924982071, -0.01656518690288067, 0.07571212947368622, 0.05713861435651779, 0.0443863645195961, 0.018505461513996124, -0.031126832589507103, -0.01367238350212574, 0.0004301277222111821, -0.008537255227565765, 0.03521808981895447, -0.05414610728621483, -0.0026657404378056526]\n"
     ]
    }
   ],
   "source": [
    "description2 = \"hello hello\"\n",
    "single_embedding2 =model.encode(description2, normalize_embeddings=True).tolist()\n",
    "print(single_embedding)"
   ]
  },
  {
   "cell_type": "code",
   "execution_count": 19,
   "metadata": {},
   "outputs": [
    {
     "name": "stdout",
     "output_type": "stream",
     "text": [
      "Row inserted successfully.\n"
     ]
    }
   ],
   "source": [
    "with engine.connect() as conn:\n",
    "    with conn.begin():# Load \n",
    "        sql = \"\"\"\n",
    "                INSERT INTO UserReviews7\n",
    "                 (description, video,  description_vector)\n",
    "                VALUES (:description, :video, TO_VECTOR(:description_vector))\n",
    "            \"\"\"\n",
    "        conn.execute(\n",
    "            text(sql),\n",
    "            {\"description\": description, \"video\": video_data, \"description_vector\": str(single_embedding)}\n",
    "        )\n",
    "        print(\"Row inserted successfully.\")"
   ]
  },
  {
   "cell_type": "code",
   "execution_count": 21,
   "metadata": {},
   "outputs": [
    {
     "name": "stdout",
     "output_type": "stream",
     "text": [
      "Row inserted successfully.\n"
     ]
    }
   ],
   "source": [
    "with engine.connect() as conn:\n",
    "    with conn.begin():# Load \n",
    "        sql = \"\"\"\n",
    "                INSERT INTO UserReviews7\n",
    "                 (description, video,  description_vector)\n",
    "                VALUES (:description, :video, TO_VECTOR(:description_vector))\n",
    "            \"\"\"\n",
    "        conn.execute(\n",
    "            text(sql),\n",
    "            {\"description\": description2, \"video\": video_data, \"description_vector\": str(single_embedding2)}\n",
    "        )\n",
    "        print(\"Row inserted successfully.\")"
   ]
  },
  {
   "cell_type": "code",
   "execution_count": 22,
   "metadata": {},
   "outputs": [],
   "source": [
    "description_search = \"hackMIT\"\n",
    "search_vector = model.encode(description_search, normalize_embeddings=True).tolist() # Convert search phrase into a vector\n"
   ]
  },
  {
   "cell_type": "code",
   "execution_count": 28,
   "metadata": {},
   "outputs": [],
   "source": [
    "with engine.connect() as conn:\n",
    "    with conn.begin():\n",
    "        sql = text(\"\"\"\n",
    "            SELECT TOP 1 * FROM UserReviews7\n",
    "            ORDER BY VECTOR_DOT_PRODUCT(description_vector, TO_VECTOR(:search_vector)) DESC\n",
    "        \"\"\")\n",
    "\n",
    "        results = conn.execute(sql, {'search_vector': str(search_vector)}).fetchall()\n"
   ]
  },
  {
   "cell_type": "code",
   "execution_count": 29,
   "metadata": {},
   "outputs": [
    {
     "name": "stdout",
     "output_type": "stream",
     "text": [
      "[(1, 'a video taken at hackMIT for fun', '../data/test.mov', '-.039069592952728271484,-.0083421571180224418641,-.026566706597805023193,-.088785514235496520996,.046086590737104415893,.020340759307146072387,.08878 ... (8832 characters truncated) ... 966,-.013672383502125740051,.00043012772221118211746,-.0085372552275657653808,.035218089818954467773,-.054146107286214828491,-.0026657404378056526184')]\n"
     ]
    }
   ],
   "source": [
    "print(results)"
   ]
  },
  {
   "cell_type": "code",
   "execution_count": 30,
   "metadata": {},
   "outputs": [
    {
     "data": {
      "text/html": [
       "<div>\n",
       "<style scoped>\n",
       "    .dataframe tbody tr th:only-of-type {\n",
       "        vertical-align: middle;\n",
       "    }\n",
       "\n",
       "    .dataframe tbody tr th {\n",
       "        vertical-align: top;\n",
       "    }\n",
       "\n",
       "    .dataframe thead th {\n",
       "        text-align: right;\n",
       "    }\n",
       "</style>\n",
       "<table border=\"1\" class=\"dataframe\">\n",
       "  <thead>\n",
       "    <tr style=\"text-align: right;\">\n",
       "      <th></th>\n",
       "      <th>id</th>\n",
       "      <th>description</th>\n",
       "      <th>video</th>\n",
       "    </tr>\n",
       "  </thead>\n",
       "  <tbody>\n",
       "    <tr>\n",
       "      <th>0</th>\n",
       "      <td>1</td>\n",
       "      <td>a video taken at hackMIT for fun</td>\n",
       "      <td>../data/test.mov</td>\n",
       "    </tr>\n",
       "  </tbody>\n",
       "</table>\n",
       "</div>"
      ],
      "text/plain": [
       "   id                       description             video\n",
       "0   1  a video taken at hackMIT for fun  ../data/test.mov"
      ]
     },
     "execution_count": 30,
     "metadata": {},
     "output_type": "execute_result"
    }
   ],
   "source": [
    "results_df = pd.DataFrame(results).iloc[:, :-1] # Remove vector\n",
    "pd.set_option('display.max_colwidth', None)  # Easier to read description\n",
    "results_df.head()"
   ]
  },
  {
   "cell_type": "markdown",
   "metadata": {},
   "source": [
    "# Langchain"
   ]
  },
  {
   "cell_type": "code",
   "execution_count": 2,
   "metadata": {},
   "outputs": [],
   "source": [
    "import getpass\n",
    "from dotenv import load_dotenv\n",
    "\n",
    "load_dotenv(override=True)\n",
    "\n",
    "if not os.environ.get(\"OPENAI_API_KEY\"):\n",
    "    os.environ[\"OPENAI_API_KEY\"] = getpass.getpass(\"OpenAI API Key:\")"
   ]
  },
  {
   "cell_type": "code",
   "execution_count": 31,
   "metadata": {},
   "outputs": [
    {
     "name": "stderr",
     "output_type": "stream",
     "text": [
      "Created a chunk of size 414, which is longer than the specified 400\n",
      "Created a chunk of size 488, which is longer than the specified 400\n",
      "Created a chunk of size 404, which is longer than the specified 400\n",
      "Created a chunk of size 441, which is longer than the specified 400\n"
     ]
    },
    {
     "name": "stdout",
     "output_type": "stream",
     "text": [
      "[Document(metadata={'source': '../data/hackMIT_details.txt'}, page_content='Our journey in developing Rewind has been a fascinating exploration of cutting-edge technology and complex problem-solving. Rewind is an advanced memory system designed to harness the power of Retrieval-Augmented Generation (RAG) combined with intersystem vector search to enhance information retrieval and memory management.\\n\\nConceptualization and Design'), Document(metadata={'source': '../data/hackMIT_details.txt'}, page_content='The project began with a clear vision: to create a memory system that seamlessly integrates retrieval mechanisms with generative capabilities, allowing for more accurate and contextually relevant information retrieval. Our primary goal was to build a system that not only stores vast amounts of data but also intelligently retrieves and utilizes this information to enhance decision-making and knowledge retention.'), Document(metadata={'source': '../data/hackMIT_details.txt'}, page_content='Technical Challenges and Innovations'), Document(metadata={'source': '../data/hackMIT_details.txt'}, page_content='One of the core challenges was implementing an effective RAG-based approach. This involved integrating a generative model with a retrieval system to improve the quality of responses by leveraging external knowledge sources. The use of intersystem vector search was pivotal in this process. We focused on creating a robust vector search mechanism that could navigate and correlate between different systems, ensuring that Rewind could efficiently access and integrate diverse data sources.'), Document(metadata={'source': '../data/hackMIT_details.txt'}, page_content='To achieve this, we developed a sophisticated vector representation framework that allowed Rewind to map complex information into a high-dimensional space. This made it possible to perform precise searches and retrieve relevant information across disparate systems. The challenge was to ensure that the vector search was not only accurate but also fast enough to handle real-time queries.'), Document(metadata={'source': '../data/hackMIT_details.txt'}, page_content='Implementation and Integration\\n\\nThe implementation phase involved a series of iterative refinements. We integrated advanced vector search algorithms, optimized for performance and scalability, and fine-tuned the RAG components to work harmoniously with the retrieval system. This required close collaboration between our data scientists, engineers, and machine learning experts.'), Document(metadata={'source': '../data/hackMIT_details.txt'}, page_content='We also prioritized creating a user-friendly interface that would allow users to interact with the system effortlessly. This involved designing intuitive query mechanisms and ensuring that the output was presented in a clear, actionable format.\\n\\nTesting and Optimization'), Document(metadata={'source': '../data/hackMIT_details.txt'}, page_content=\"Testing Rewind was an intensive process. We conducted extensive trials to ensure the system's reliability and accuracy. This involved stress-testing the vector search capabilities, evaluating the quality of the generated responses, and ensuring that the system could handle diverse and complex queries. Feedback from these tests was invaluable in making iterative improvements and optimizing performance.\"), Document(metadata={'source': '../data/hackMIT_details.txt'}, page_content='Impact and Future Directions'), Document(metadata={'source': '../data/hackMIT_details.txt'}, page_content='The successful deployment of Rewind has demonstrated the potential of combining RAG with intersystem vector search. The system has shown significant improvements in information retrieval accuracy and user satisfaction. Looking ahead, we are excited about exploring further enhancements, such as integrating additional data sources, improving real-time performance, and expanding the system’s capabilities to handle even more complex queries.'), Document(metadata={'source': '../data/hackMIT_details.txt'}, page_content='Building Rewind has been a rewarding experience, showcasing the power of advanced retrieval and generation techniques. It has opened up new possibilities for how we interact with and utilize information, setting the stage for future innovations in memory systems and intelligent search technologies.')]\n"
     ]
    }
   ],
   "source": [
    "loader = TextLoader(\"../data/hackMIT_details.txt\", encoding='utf-8')\n",
    "documents = loader.load()\n",
    "text_splitter = CharacterTextSplitter(chunk_size=400, chunk_overlap=20)\n",
    "docs = text_splitter.split_documents(documents)\n",
    "print(docs)"
   ]
  },
  {
   "cell_type": "code",
   "execution_count": 32,
   "metadata": {},
   "outputs": [
    {
     "name": "stderr",
     "output_type": "stream",
     "text": [
      "/var/folders/mc/7x80vy212fv045xlwv_3czlm0000gn/T/ipykernel_28267/2621818036.py:1: LangChainDeprecationWarning: The class `OpenAIEmbeddings` was deprecated in LangChain 0.0.9 and will be removed in 1.0. An updated version of the class exists in the langchain-openai package and should be used instead. To use it run `pip install -U langchain-openai` and import as `from langchain_openai import OpenAIEmbeddings`.\n",
      "  embeddings = OpenAIEmbeddings()\n"
     ]
    }
   ],
   "source": [
    "embeddings = OpenAIEmbeddings()\n",
    "COLLECTION_NAME = \"state_of_the_union_test\"\n",
    "\n",
    "db = IRISVector.from_documents(\n",
    "    embedding=embeddings,\n",
    "    documents=docs,\n",
    "    collection_name=COLLECTION_NAME,\n",
    "    connection_string=CONNECTION_STRING,\n",
    ")\n"
   ]
  },
  {
   "cell_type": "code",
   "execution_count": 33,
   "metadata": {},
   "outputs": [
    {
     "name": "stdout",
     "output_type": "stream",
     "text": [
      "Number of docs in vector store: 126\n",
      "--------------------------------------------------------------------------------\n",
      "Score:  0.218652334724994\n",
      "Technical Challenges and Innovations\n",
      "--------------------------------------------------------------------------------\n",
      "--------------------------------------------------------------------------------\n",
      "Score:  0.223700608703322\n",
      "Building Rewind has been a rewarding experience, showcasing the power of advanced retrieval and generation techniques. It has opened up new possibilities for how we interact with and utilize information, setting the stage for future innovations in memory systems and intelligent search technologies.\n",
      "--------------------------------------------------------------------------------\n",
      "--------------------------------------------------------------------------------\n",
      "Score:  0.224538392432496\n",
      "The project began with a clear vision: to create a memory system that seamlessly integrates retrieval mechanisms with generative capabilities, allowing for more accurate and contextually relevant information retrieval. Our primary goal was to build a system that not only stores vast amounts of data but also intelligently retrieves and utilizes this information to enhance decision-making and knowledge retention.\n",
      "--------------------------------------------------------------------------------\n",
      "--------------------------------------------------------------------------------\n",
      "Score:  0.231773650268116\n",
      "We also prioritized creating a user-friendly interface that would allow users to interact with the system effortlessly. This involved designing intuitive query mechanisms and ensuring that the output was presented in a clear, actionable format.\n",
      "\n",
      "Testing and Optimization\n",
      "--------------------------------------------------------------------------------\n"
     ]
    }
   ],
   "source": [
    "\n",
    "print(f\"Number of docs in vector store: {len(db.get()['ids'])}\")\n",
    "query = \"What did we build at HackMIT?\"\n",
    "docs_with_score = db.similarity_search_with_score(query)\n",
    "for doc, score in docs_with_score:\n",
    "    print(\"-\" * 80)\n",
    "    print(\"Score: \", score)\n",
    "    print(doc.page_content)\n",
    "    print(\"-\" * 80)"
   ]
  },
  {
   "cell_type": "code",
   "execution_count": null,
   "metadata": {},
   "outputs": [],
   "source": []
  }
 ],
 "metadata": {
  "kernelspec": {
   "display_name": "Python 3",
   "language": "python",
   "name": "python3"
  },
  "language_info": {
   "codemirror_mode": {
    "name": "ipython",
    "version": 3
   },
   "file_extension": ".py",
   "mimetype": "text/x-python",
   "name": "python",
   "nbconvert_exporter": "python",
   "pygments_lexer": "ipython3",
   "version": "3.12.5"
  }
 },
 "nbformat": 4,
 "nbformat_minor": 2
}
